{
  "nbformat": 4,
  "nbformat_minor": 0,
  "metadata": {
    "colab": {
      "name": "new_whale.pylab",
      "version": "0.3.2",
      "provenance": [],
      "collapsed_sections": []
    },
    "kernelspec": {
      "name": "python3",
      "display_name": "Python 3"
    },
    "accelerator": "GPU"
  },
  "cells": [
    {
      "metadata": {
        "id": "spsLpJy6aFxD",
        "colab_type": "code",
        "colab": {}
      },
      "cell_type": "code",
      "source": [
        "# Epoch 23/30\n",
        "# 2class\n",
        "# 367/367 [==============================] - 619s 2s/step - loss: 0.2588 - acc: 0.8965 - val_loss: 1.5154 - val_acc: 0.4925\n",
        "\n",
        "def vgg_cnn_model(input_size, output_size):\n",
        "    conv_base = resnet50.ResNet50(weights='imagenet',\n",
        "                      include_top=False,\n",
        "                      input_shape=(input_size, input_size, 3))\n",
        "    conv_base.trainable = False\n",
        "    model = models.Sequential()\n",
        "    model.add(conv_base)\n",
        "    model.add(layers.Flatten())\n",
        "    model.add(layers.Dense(1024, activation='relu'))\n",
        "    model.add(layers.BatchNormalization())\n",
        "    model.add(layers.Dense(1024, activation='relu'))\n",
        "    model.add(layers.BatchNormalization())\n",
        "    model.add(layers.Dense(output_size))\n",
        "    model.add(layers.Activation('softmax'))\n",
        "    model.compile(loss='categorical_crossentropy', optimizer=optimizers.RMSprop(lr=1e-4), metrics=['acc'])\n",
        "    return model\n"
      ],
      "execution_count": 0,
      "outputs": []
    },
    {
      "metadata": {
        "id": "ZFRbwMTEoqAh",
        "colab_type": "code",
        "colab": {}
      },
      "cell_type": "code",
      "source": [
        ""
      ],
      "execution_count": 0,
      "outputs": []
    }
  ]
}